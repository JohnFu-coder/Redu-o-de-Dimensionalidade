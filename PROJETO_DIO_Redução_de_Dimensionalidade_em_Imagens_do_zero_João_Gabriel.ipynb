{
  "nbformat": 4,
  "nbformat_minor": 0,
  "metadata": {
    "colab": {
      "provenance": []
    },
    "kernelspec": {
      "name": "python3",
      "display_name": "Python 3"
    },
    "language_info": {
      "name": "python"
    }
  },
  "cells": [
    {
      "cell_type": "code",
      "source": [
        "from PIL import Image\n",
        "\n",
        "# Carrega a imagem\n",
        "imagem = Image.open('/content/OIP.jpeg')"
      ],
      "metadata": {
        "id": "HNl0oPlvUV9f"
      },
      "execution_count": 18,
      "outputs": []
    },
    {
      "cell_type": "code",
      "source": [
        "# Converte a imagem para níveis de cinza\n",
        "imagem_cinza = imagem.convert('L')\n",
        "imagem_cinza.show()  # Exibe a imagem em tons de cinza"
      ],
      "metadata": {
        "id": "ofw6Cq81Uahg"
      },
      "execution_count": 19,
      "outputs": []
    },
    {
      "cell_type": "code",
      "source": [
        "# Define um limiar para binarização\n",
        "limiar = 128\n",
        "\n",
        "# Aplica a binarização\n",
        "imagem_binarizada = imagem_cinza.point(lambda p: 255 if p > limiar else 0)\n",
        "\n",
        "imagem_binarizada.show()  # Exibe a imagem binarizada"
      ],
      "metadata": {
        "id": "8wYrXtCSUdko"
      },
      "execution_count": 20,
      "outputs": []
    },
    {
      "cell_type": "code",
      "source": [
        "# Salva as imagens\n",
        "imagem_cinza.save('imagem_cinza.jpg')\n",
        "imagem_binarizada.save('imagem_binarizada.jpg')"
      ],
      "metadata": {
        "id": "_6R0Cd0DUf2_"
      },
      "execution_count": 21,
      "outputs": []
    }
  ]
}